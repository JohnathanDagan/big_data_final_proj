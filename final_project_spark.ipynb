{
 "cells": [
  {
   "cell_type": "markdown",
   "id": "8c956bb1",
   "metadata": {},
   "source": [
    "# Setup"
   ]
  },
  {
   "cell_type": "code",
   "execution_count": 1,
   "id": "6553a55a",
   "metadata": {},
   "outputs": [],
   "source": [
    "import os\n",
    "os.environ['JAVA_HOME'] = '/opt/homebrew/opt/openjdk@17'\n"
   ]
  },
  {
   "cell_type": "code",
   "execution_count": 2,
   "id": "0ff84cbd",
   "metadata": {},
   "outputs": [
    {
     "name": "stdout",
     "output_type": "stream",
     "text": [
      "/usr/bin/java\n"
     ]
    }
   ],
   "source": [
    "!which java"
   ]
  },
  {
   "cell_type": "code",
   "execution_count": 3,
   "id": "71c08eef",
   "metadata": {},
   "outputs": [],
   "source": [
    "# df = df.sample(0.5)"
   ]
  },
  {
   "cell_type": "code",
   "execution_count": 4,
   "id": "eede3c87",
   "metadata": {},
   "outputs": [
    {
     "name": "stderr",
     "output_type": "stream",
     "text": [
      "WARNING: Using incubator modules: jdk.incubator.vector\n",
      "Using Spark's default log4j profile: org/apache/spark/log4j2-defaults.properties\n",
      "Setting default log level to \"WARN\".\n",
      "To adjust logging level use sc.setLogLevel(newLevel). For SparkR, use setLogLevel(newLevel).\n",
      "25/08/07 21:11:39 WARN NativeCodeLoader: Unable to load native-hadoop library for your platform... using builtin-java classes where applicable\n",
      "[Stage 0:======================================>                 (34 + 13) / 50]\r"
     ]
    },
    {
     "name": "stdout",
     "output_type": "stream",
     "text": [
      "+---+\n",
      "| id|\n",
      "+---+\n",
      "|  0|\n",
      "|  1|\n",
      "|  2|\n",
      "|  3|\n",
      "|  4|\n",
      "+---+\n",
      "\n"
     ]
    },
    {
     "name": "stderr",
     "output_type": "stream",
     "text": [
      "                                                                                \r"
     ]
    }
   ],
   "source": [
    "from pyspark.sql import SparkSession\n",
    "#trying everything to make it work faster\n",
    "spark = SparkSession.builder \\\n",
    "    .appName(\"final_proj\") \\\n",
    "    .config(\"spark.driver.memory\", \"2g\") \\\n",
    "    .config(\"spark.executor.memory\", \"2g\") \\\n",
    "    .config(\"spark.memory.fraction\", \"0.6\") \\\n",
    "    .config(\"spark.sql.shuffle.partitions\", \"50\") \\\n",
    "    .config(\"spark.default.parallelism\", \"50\") \\\n",
    "    .config(\"spark.sql.autoBroadcastJoinThreshold\", \"10m\") \\\n",
    "    .config(\"spark.dynamicAllocation.enabled\", \"false\") \\\n",
    "    .getOrCreate()\n",
    "\n",
    "df = spark.range(5)\n",
    "df.show()"
   ]
  },
  {
   "cell_type": "code",
   "execution_count": 5,
   "id": "b43e6c6d",
   "metadata": {},
   "outputs": [],
   "source": [
    "# import pyspark\n",
    "\n",
    "# session = pyspark.sql.SparkSession\n",
    "# spark = session.builder.config('spark.driver.memory','12g').getOrCreate()\n",
    "# spark"
   ]
  },
  {
   "cell_type": "code",
   "execution_count": 6,
   "id": "c177a563",
   "metadata": {},
   "outputs": [],
   "source": [
    "import pandas as pd"
   ]
  },
  {
   "cell_type": "code",
   "execution_count": 7,
   "id": "6eb6b544",
   "metadata": {},
   "outputs": [],
   "source": [
    "# df = pd.read_csv(\"TrafficEvents_Aug16_Dec20_Publish.csv\")"
   ]
  },
  {
   "cell_type": "code",
   "execution_count": 8,
   "id": "872fb846",
   "metadata": {},
   "outputs": [],
   "source": [
    "# len(df)"
   ]
  },
  {
   "cell_type": "code",
   "execution_count": 9,
   "id": "f666f08d",
   "metadata": {},
   "outputs": [],
   "source": [
    "# from pyspark.sql.types import StructType, StructField, StringType, IntegerType, DoubleType\n",
    "\n",
    "# schema = StructType([\n",
    "#     StructField(\"EventId\", StringType(), True),\n",
    "#     StructField(\"Type\", StringType(), True),\n",
    "#     StructField(\"Severity\", IntegerType(), True),\n",
    "#     StructField(\"TMC\", IntegerType(), True), #more detailed description of event\n",
    "#     StructField(\"Description\", StringType(), True),\n",
    "#     StructField(\"StartTime(UTC)\", StringType(), True),\n",
    "#     StructField(\"EndTime(UTC)\", StringType(), True),\n",
    "#     StructField(\"TimeZone\", StringType(), True),\n",
    "#     StructField(\"LocationLat\", DoubleType(), True),\n",
    "#     StructField(\"LocationLng\", DoubleType(), True),\n",
    "#     StructField(\"Distance(mi)\", DoubleType(), True),\n",
    "#     StructField(\"AirportCode\", StringType(), True),\n",
    "#     StructField(\"Number\", IntegerType(), True),\n",
    "#     StructField(\"Street\", StringType(), True),\n",
    "#     StructField(\"Side\", StringType(), True),\n",
    "#     StructField(\"City\", StringType(), True),\n",
    "#     StructField(\"County\", StringType(), True),\n",
    "#     StructField(\"State\", StringType(), True),\n",
    "#     StructField(\"ZipCode\", IntegerType(), True),\n",
    "    \n",
    "#     # define all columns explicitly\n",
    "# ])"
   ]
  },
  {
   "cell_type": "code",
   "execution_count": 10,
   "id": "adf74fad",
   "metadata": {},
   "outputs": [],
   "source": [
    "# traffic_events = spark.read\\\n",
    "#     .option(\"header\", True)\\\n",
    "#     .schema(schema)\\\n",
    "#     .option(\"mode\", \"DROPMALFORMED\")\\\n",
    "#     .option(\"enforceSchema\", \"false\")\\\n",
    "#     .csv(\"TrafficEvents_Aug16_Dec20_Publish.csv\")\n",
    "# traffic_events.show(1)"
   ]
  },
  {
   "cell_type": "markdown",
   "id": "b65e6a21",
   "metadata": {},
   "source": [
    "# Observe Main Datasets"
   ]
  },
  {
   "cell_type": "code",
   "execution_count": 11,
   "id": "fa2be637",
   "metadata": {},
   "outputs": [
    {
     "name": "stderr",
     "output_type": "stream",
     "text": [
      "                                                                                \r"
     ]
    }
   ],
   "source": [
    "traffic_events_csv = spark.read\\\n",
    "    .option(\"header\", True)\\\n",
    "    .option(\"inferSchema\", True)\\\n",
    "    .csv(\"TrafficEvents_Aug16_Dec20_Publish.csv\")"
   ]
  },
  {
   "cell_type": "code",
   "execution_count": 12,
   "id": "8badf32d",
   "metadata": {},
   "outputs": [
    {
     "name": "stderr",
     "output_type": "stream",
     "text": [
      "                                                                                \r"
     ]
    },
    {
     "data": {
      "text/plain": [
       "31355575"
      ]
     },
     "execution_count": 12,
     "metadata": {},
     "output_type": "execute_result"
    }
   ],
   "source": [
    "traffic_events_csv.count()"
   ]
  },
  {
   "cell_type": "code",
   "execution_count": 13,
   "id": "606ffbb9",
   "metadata": {},
   "outputs": [],
   "source": [
    "# traffic_events3 = spark.read\\\n",
    "#     .option(\"header\", True)\\\n",
    "#     .option(\"inferSchema\", True)\\\n",
    "#     .option(\"mode\", \"PERMISSIVE\")\\\n",
    "#     .option(\"columnNameOfCorruptRecord\", \"_corrupt_record\")\\\n",
    "#     .csv(\"TrafficEvents_Aug16_Dec20_Publish.csv\")"
   ]
  },
  {
   "cell_type": "code",
   "execution_count": 14,
   "id": "eb21bd15",
   "metadata": {},
   "outputs": [],
   "source": [
    "# traffic_events3.filter(\"`_corrupt_record` IS NOT NULL\").count()"
   ]
  },
  {
   "cell_type": "code",
   "execution_count": 15,
   "id": "0702fb27",
   "metadata": {},
   "outputs": [
    {
     "name": "stderr",
     "output_type": "stream",
     "text": [
      "[Stage 7:======================================================>  (48 + 2) / 50]\r"
     ]
    },
    {
     "name": "stdout",
     "output_type": "stream",
     "text": [
      "+-------+----+--------+-------------------+-------------------+-----------+-----------+-----------+-----------+--------+--------+-----+-------+\n",
      "|EventId|Type|Severity|     StartTime(UTC)|       EndTime(UTC)|   TimeZone|LocationLat|LocationLng|AirportCode|    City|  County|State|ZipCode|\n",
      "+-------+----+--------+-------------------+-------------------+-----------+-----------+-----------+-----------+--------+--------+-----+-------+\n",
      "|  W-310|Rain|   Light|2016-08-01 00:16:00|2016-08-01 00:56:00|US/Mountain|    38.0972|  -106.1689|       K04V|Saguache|Saguache|   CO|  81149|\n",
      "|  W-311|Rain|   Light|2016-08-01 01:16:00|2016-08-01 01:36:00|US/Mountain|    38.0972|  -106.1689|       K04V|Saguache|Saguache|   CO|  81149|\n",
      "|  W-312|Rain|   Light|2016-08-01 01:56:00|2016-08-01 02:16:00|US/Mountain|    38.0972|  -106.1689|       K04V|Saguache|Saguache|   CO|  81149|\n",
      "|  W-313|Rain|   Light|2016-08-01 02:36:00|2016-08-01 02:56:00|US/Mountain|    38.0972|  -106.1689|       K04V|Saguache|Saguache|   CO|  81149|\n",
      "|  W-314|Rain|   Light|2016-08-01 04:36:00|2016-08-01 04:56:00|US/Mountain|    38.0972|  -106.1689|       K04V|Saguache|Saguache|   CO|  81149|\n",
      "+-------+----+--------+-------------------+-------------------+-----------+-----------+-----------+-----------+--------+--------+-----+-------+\n",
      "only showing top 5 rows\n"
     ]
    },
    {
     "name": "stderr",
     "output_type": "stream",
     "text": [
      "                                                                                \r"
     ]
    }
   ],
   "source": [
    "weather_events_csv = spark.read\\\n",
    "    .option(\"header\", True)\\\n",
    "    .option(\"inferSchema\", True)\\\n",
    "    .csv(\"WeatherEvents_Aug16_Dec20_Publish.csv\")\n",
    "weather_events_csv.show(5)"
   ]
  },
  {
   "cell_type": "code",
   "execution_count": 16,
   "id": "0f9d269f",
   "metadata": {},
   "outputs": [
    {
     "data": {
      "text/plain": [
       "5576434"
      ]
     },
     "execution_count": 16,
     "metadata": {},
     "output_type": "execute_result"
    }
   ],
   "source": [
    "weather_events_csv.count()"
   ]
  },
  {
   "cell_type": "code",
   "execution_count": 17,
   "id": "846fca6d",
   "metadata": {},
   "outputs": [],
   "source": [
    "# traffic_events = traffic_events_csv.sample(0.1)"
   ]
  },
  {
   "cell_type": "code",
   "execution_count": 19,
   "id": "753d6b4a",
   "metadata": {},
   "outputs": [
    {
     "name": "stderr",
     "output_type": "stream",
     "text": [
      "                                                                                \r"
     ]
    }
   ],
   "source": [
    "#parquet > csvs, turn into parquet and back\n",
    "traffic_events_csv.select([\"Type\", \"Severity\", \"StartTime(UTC)\", \"EndTime(UTC)\", \"City\", \"State\"]).write.parquet(\"traffic_events\")\n",
    "traffic_events = spark.read.parquet(\"traffic_events\")\n",
    "weather_events_csv.select([\"Type\", \"Severity\", \"StartTime(UTC)\", \"EndTime(UTC)\", \"City\", \"State\"]).write.parquet(\"weather_events\")\n",
    "weather_events = spark.read.parquet(\"weather_events\")"
   ]
  },
  {
   "cell_type": "code",
   "execution_count": 20,
   "id": "d6172a47",
   "metadata": {},
   "outputs": [],
   "source": [
    "import matplotlib.pyplot as plt"
   ]
  },
  {
   "cell_type": "code",
   "execution_count": 21,
   "id": "2d652b5d",
   "metadata": {},
   "outputs": [],
   "source": [
    "# traffic_events_csv.show()"
   ]
  },
  {
   "cell_type": "code",
   "execution_count": 22,
   "id": "94016c4d",
   "metadata": {},
   "outputs": [],
   "source": [
    "# traffic_events.select(\"Severity\", \"TMC\", \"Description\" ).show(20, truncate = False)"
   ]
  },
  {
   "cell_type": "markdown",
   "id": "5e3d2577",
   "metadata": {},
   "source": [
    "# Basic Histogram Graphs, Determine Data Availability"
   ]
  },
  {
   "cell_type": "code",
   "execution_count": 23,
   "id": "f1eda2b3",
   "metadata": {},
   "outputs": [
    {
     "name": "stderr",
     "output_type": "stream",
     "text": [
      "                                                                                \r"
     ]
    }
   ],
   "source": [
    "severity_counts = traffic_events.groupBy(\"Severity\").count().orderBy(\"Severity\")\n",
    "severity_pd = severity_counts.toPandas()"
   ]
  },
  {
   "cell_type": "code",
   "execution_count": 24,
   "id": "5a260776",
   "metadata": {},
   "outputs": [
    {
     "name": "stdout",
     "output_type": "stream",
     "text": [
      "+--------+--------+\n",
      "|Severity|   count|\n",
      "+--------+--------+\n",
      "|       0| 5802732|\n",
      "|       1|12673613|\n",
      "|       2|10149277|\n",
      "|       3| 2666083|\n",
      "|       4|   63870|\n",
      "+--------+--------+\n",
      "\n"
     ]
    }
   ],
   "source": [
    "severity_counts.show()"
   ]
  },
  {
   "cell_type": "code",
   "execution_count": 25,
   "id": "5437c55b",
   "metadata": {},
   "outputs": [
    {
     "data": {
      "image/png": "[encoded data removed]",
      "text/plain": [
       "<Figure size 640x480 with 1 Axes>"
      ]
     },
     "metadata": {},
     "output_type": "display_data"
    }
   ],
   "source": [
    "plt.bar(severity_pd[\"Severity\"], severity_pd[\"count\"])\n",
    "plt.xlabel(\"Severity\")\n",
    "plt.ylabel(\"Count\")\n",
    "plt.title(\"Traffic Severity Counts\")\n",
    "plt.show()"
   ]
  },
  {
   "cell_type": "code",
   "execution_count": 26,
   "id": "cf8ce8bf",
   "metadata": {},
   "outputs": [
    {
     "name": "stderr",
     "output_type": "stream",
     "text": [
      "                                                                                \r"
     ]
    }
   ],
   "source": [
    "from pyspark.sql.functions import col\n",
    "cities_counts = traffic_events.groupBy(\"City\").count().orderBy(col(\"count\").desc()).limit(10)\n",
    "cities_pd = cities_counts.toPandas()"
   ]
  },
  {
   "cell_type": "code",
   "execution_count": 27,
   "id": "4186ca91",
   "metadata": {},
   "outputs": [
    {
     "data": {
      "image/png": "[encoded data removed]",
      "text/plain": [
       "<Figure size 640x480 with 1 Axes>"
      ]
     },
     "metadata": {},
     "output_type": "display_data"
    }
   ],
   "source": [
    "plt.bar(cities_pd[\"City\"], cities_pd[\"count\"])\n",
    "plt.xlabel(\"City\")\n",
    "plt.ylabel(\"Count\")\n",
    "plt.xticks(rotation=90)\n",
    "plt.title(\"Cities with the Most Data\")\n",
    "plt.show()"
   ]
  },
  {
   "cell_type": "code",
   "execution_count": 28,
   "id": "27f86fe9",
   "metadata": {},
   "outputs": [
    {
     "name": "stderr",
     "output_type": "stream",
     "text": [
      "                                                                                \r"
     ]
    }
   ],
   "source": [
    "from pyspark.sql.functions import col\n",
    "cities_counts = traffic_events.filter(col(\"Type\") == \"Congestion\").groupBy(\"State\").count().orderBy(col(\"count\").desc()).limit(10)\n",
    "cities_pd = cities_counts.toPandas()"
   ]
  },
  {
   "cell_type": "code",
   "execution_count": 29,
   "id": "e83b4c36",
   "metadata": {},
   "outputs": [
    {
     "data": {
      "text/plain": [
       "Index(['State', 'count'], dtype='object')"
      ]
     },
     "execution_count": 29,
     "metadata": {},
     "output_type": "execute_result"
    }
   ],
   "source": [
    "cities_pd.columns"
   ]
  },
  {
   "cell_type": "code",
   "execution_count": 30,
   "id": "5cbbbf4e",
   "metadata": {},
   "outputs": [
    {
     "data": {
      "image/png": "[encoded data removed]",
      "text/plain": [
       "<Figure size 640x480 with 1 Axes>"
      ]
     },
     "metadata": {},
     "output_type": "display_data"
    }
   ],
   "source": [
    "plt.bar(cities_pd[\"State\"], cities_pd[\"count\"])\n",
    "plt.xlabel(\"State\")\n",
    "plt.ylabel(\"Count\")\n",
    "plt.xticks(rotation=90)\n",
    "plt.title(\"States with the Most Data\")\n",
    "plt.show()"
   ]
  },
  {
   "cell_type": "code",
   "execution_count": 31,
   "id": "d69e709a",
   "metadata": {},
   "outputs": [
    {
     "name": "stderr",
     "output_type": "stream",
     "text": [
      "                                                                                \r"
     ]
    }
   ],
   "source": [
    "states_counts = traffic_events.groupBy(\"State\").count().orderBy(col(\"count\").desc()).limit(15)\n",
    "states_pd = states_counts.toPandas()"
   ]
  },
  {
   "cell_type": "code",
   "execution_count": 32,
   "id": "c3b3daa8",
   "metadata": {},
   "outputs": [
    {
     "data": {
      "image/png": "[encoded data removed]",
      "text/plain": [
       "<Figure size 640x480 with 1 Axes>"
      ]
     },
     "metadata": {},
     "output_type": "display_data"
    }
   ],
   "source": [
    "plt.bar(states_pd[\"State\"], states_pd[\"count\"])\n",
    "plt.xlabel(\"State\")\n",
    "plt.ylabel(\"Count\")\n",
    "plt.xticks(rotation=90)\n",
    "plt.title(\"States with the Most Data\")\n",
    "plt.show()"
   ]
  },
  {
   "cell_type": "code",
   "execution_count": 33,
   "id": "2662b3b2",
   "metadata": {},
   "outputs": [],
   "source": [
    "#Will compare LA, Chicago, Houston, NYC, Miami and Atlanta\n",
    "#Compare severity of "
   ]
  },
  {
   "cell_type": "markdown",
   "id": "8f8ae418",
   "metadata": {},
   "source": [
    "# Start Comparing Cities"
   ]
  },
  {
   "cell_type": "code",
   "execution_count": null,
   "id": "b39df3ca",
   "metadata": {},
   "outputs": [],
   "source": []
  },
  {
   "cell_type": "code",
   "execution_count": 34,
   "id": "0e061cb9",
   "metadata": {},
   "outputs": [],
   "source": [
    "from pyspark.sql.functions import when\n",
    "weather_events = weather_events.withColumn(\n",
    "    \"WeatherSeverityNumeric\",\n",
    "    when(col(\"Severity\") == \"Light\", 1)\n",
    "    .when(col(\"Severity\") == \"Moderate\", 2)\n",
    "    .when(col(\"Severity\") == \"Heavy\", 3)\n",
    "    .otherwise(0)\n",
    ")"
   ]
  },
  {
   "cell_type": "code",
   "execution_count": 35,
   "id": "aa3cd2f7",
   "metadata": {},
   "outputs": [],
   "source": [
    "#see congestion distribution in good and bad weather in Houston and Dallas.\n",
    "houston_weather = weather_events.filter(col(\"City\") == \"Houston\")\n",
    "dallas_weather = weather_events.filter(col(\"City\") == \"Dallas\")"
   ]
  },
  {
   "cell_type": "code",
   "execution_count": 36,
   "id": "bef24027",
   "metadata": {},
   "outputs": [
    {
     "name": "stdout",
     "output_type": "stream",
     "text": [
      "+----+--------+-------------------+-------------------+-------+-----+----------------------+\n",
      "|Type|Severity|     StartTime(UTC)|       EndTime(UTC)|   City|State|WeatherSeverityNumeric|\n",
      "+----+--------+-------------------+-------------------+-------+-----+----------------------+\n",
      "|Rain|   Light|2016-08-01 22:07:00|2016-08-01 22:39:00|Houston|   TX|                     1|\n",
      "|Rain|   Light|2016-08-11 22:39:00|2016-08-11 22:53:00|Houston|   TX|                     1|\n",
      "|Rain|   Light|2016-08-14 00:35:00|2016-08-14 00:50:00|Houston|   TX|                     1|\n",
      "|Rain|Moderate|2016-08-14 00:50:00|2016-08-14 01:17:00|Houston|   TX|                     2|\n",
      "|Rain|   Heavy|2016-08-14 01:17:00|2016-08-14 03:18:00|Houston|   TX|                     3|\n",
      "|Rain|Moderate|2016-08-14 03:18:00|2016-08-14 04:53:00|Houston|   TX|                     2|\n",
      "|Rain|   Light|2016-08-14 04:53:00|2016-08-14 07:53:00|Houston|   TX|                     1|\n",
      "|Rain|   Light|2016-08-14 10:53:00|2016-08-14 13:53:00|Houston|   TX|                     1|\n",
      "|Rain|   Light|2016-08-14 14:53:00|2016-08-14 15:01:00|Houston|   TX|                     1|\n",
      "|Rain|   Light|2016-08-15 03:53:00|2016-08-15 04:53:00|Houston|   TX|                     1|\n",
      "|Rain|   Light|2016-08-15 17:43:00|2016-08-15 17:53:00|Houston|   TX|                     1|\n",
      "|Rain|Moderate|2016-08-15 17:53:00|2016-08-15 18:02:00|Houston|   TX|                     2|\n",
      "|Rain|   Light|2016-08-15 18:16:00|2016-08-15 19:53:00|Houston|   TX|                     1|\n",
      "|Rain|   Light|2016-08-16 01:53:00|2016-08-16 03:27:00|Houston|   TX|                     1|\n",
      "|Rain|Moderate|2016-08-16 09:28:00|2016-08-16 10:53:00|Houston|   TX|                     2|\n",
      "|Rain|   Light|2016-08-16 10:53:00|2016-08-16 12:53:00|Houston|   TX|                     1|\n",
      "|Rain|   Light|2016-08-16 15:40:00|2016-08-16 15:53:00|Houston|   TX|                     1|\n",
      "|Rain|Moderate|2016-08-16 15:53:00|2016-08-16 16:53:00|Houston|   TX|                     2|\n",
      "|Rain|Moderate|2016-08-16 17:53:00|2016-08-16 18:53:00|Houston|   TX|                     2|\n",
      "|Rain|   Light|2016-08-16 18:53:00|2016-08-16 19:53:00|Houston|   TX|                     1|\n",
      "+----+--------+-------------------+-------------------+-------+-----+----------------------+\n",
      "only showing top 20 rows\n"
     ]
    }
   ],
   "source": [
    "houston_weather.show()"
   ]
  },
  {
   "cell_type": "code",
   "execution_count": 37,
   "id": "c9165250",
   "metadata": {},
   "outputs": [],
   "source": [
    "houston_congestion = traffic_events.filter(col(\"City\") == \"Houston\").filter(col(\"Type\") == \"Congestion\")\n",
    "dallas_congestion = traffic_events.filter(col(\"City\") == \"Dallas\").filter(col(\"Type\") == \"Congestion\")"
   ]
  },
  {
   "cell_type": "code",
   "execution_count": 38,
   "id": "c9e6e780",
   "metadata": {},
   "outputs": [
    {
     "name": "stderr",
     "output_type": "stream",
     "text": [
      "                                                                                \r"
     ]
    }
   ],
   "source": [
    "houston_congestion_counts = houston_congestion.groupBy(\"Severity\").count().orderBy(\"Severity\")\n",
    "houston_congestion_pd = houston_congestion_counts.toPandas()\n",
    "\n",
    "dallas_congestion_counts = dallas_congestion.groupBy(\"Severity\").count().orderBy(\"Severity\")\n",
    "dallas_congestion_pd = dallas_congestion_counts.toPandas()"
   ]
  },
  {
   "cell_type": "code",
   "execution_count": 39,
   "id": "d4a57b87",
   "metadata": {},
   "outputs": [
    {
     "data": {
      "image/png": "[encoded data removed]",
      "text/plain": [
       "<Figure size 640x480 with 1 Axes>"
      ]
     },
     "metadata": {},
     "output_type": "display_data"
    }
   ],
   "source": [
    "plt.bar(houston_congestion_pd[\"Severity\"], houston_congestion_pd[\"count\"])\n",
    "plt.xlabel(\"Severity\")\n",
    "plt.ylabel(\"Count\")\n",
    "plt.title(\"Traffic Severity Counts in Houston\")\n",
    "plt.show()"
   ]
  },
  {
   "cell_type": "code",
   "execution_count": 40,
   "id": "abfe57eb",
   "metadata": {},
   "outputs": [
    {
     "data": {
      "image/png": "[encoded data removed]",
      "text/plain": [
       "<Figure size 640x480 with 1 Axes>"
      ]
     },
     "metadata": {},
     "output_type": "display_data"
    }
   ],
   "source": [
    "plt.bar(dallas_congestion_pd[\"Severity\"], dallas_congestion_pd[\"count\"])\n",
    "plt.xlabel(\"Severity\")\n",
    "plt.ylabel(\"Count\")\n",
    "plt.title(\"Traffic Severity Counts in Dallas\")\n",
    "plt.show()"
   ]
  },
  {
   "cell_type": "code",
   "execution_count": 41,
   "id": "7f93be00",
   "metadata": {},
   "outputs": [
    {
     "name": "stdout",
     "output_type": "stream",
     "text": [
      "+----------+--------+-------------------+-------------------+-------+-----+\n",
      "|      Type|Severity|     StartTime(UTC)|       EndTime(UTC)|   City|State|\n",
      "+----------+--------+-------------------+-------------------+-------+-----+\n",
      "|Congestion|       1|2020-06-01 06:22:00|2020-06-01 07:07:30|Houston|   TX|\n",
      "+----------+--------+-------------------+-------------------+-------+-----+\n",
      "only showing top 1 row\n"
     ]
    }
   ],
   "source": [
    "houston_congestion.show(1)"
   ]
  },
  {
   "cell_type": "code",
   "execution_count": 42,
   "id": "12de1383",
   "metadata": {},
   "outputs": [
    {
     "name": "stdout",
     "output_type": "stream",
     "text": [
      "+-------------+\n",
      "|         Type|\n",
      "+-------------+\n",
      "|         Rain|\n",
      "|         Snow|\n",
      "|          Fog|\n",
      "|        Storm|\n",
      "|         Cold|\n",
      "|Precipitation|\n",
      "|         Hail|\n",
      "+-------------+\n",
      "\n"
     ]
    }
   ],
   "source": [
    "houston_weather.select(\"Type\").distinct().show()"
   ]
  },
  {
   "cell_type": "code",
   "execution_count": null,
   "id": "e453b6fd",
   "metadata": {},
   "outputs": [],
   "source": [
    "# from pyspark.sql.functions import when #, isnull\n",
    "\n",
    "# c = houston_congestion.alias(\"c\")\n",
    "# w = houston_weather.alias(\"w\")\n",
    "\n",
    "# houston_join_cols = c.join( #the start of the congestion was during some weather event\n",
    "#     w,\n",
    "#     (col(\"c.StartTime(UTC)\") >= col(\"w.StartTime(UTC)\")) &\n",
    "#     (col(\"c.StartTime(UTC)\") <= col(\"w.EndTime(UTC)\")),\n",
    "#     how=\"left\"\n",
    "# )\n",
    "\n",
    "# houston_joined = houston_join_cols.select(\n",
    "#     col(\"c.*\"),\n",
    "#     when(col(\"w.Type\").isNull(), \"No Weather Event\") #add the weather column, no weather event if nothing happened at the start of the traffic event\n",
    "#         .otherwise(col(\"w.Type\")).alias(\"WeatherType\"),\n",
    "#     col(\"w.WeatherSeverityNumeric\")\n",
    "# )\n"
   ]
  },
  {
   "cell_type": "code",
   "execution_count": null,
   "id": "eba96e95",
   "metadata": {},
   "outputs": [],
   "source": [
    "# c = dallas_congestion.alias(\"c\")\n",
    "# w = dallas_weather.alias(\"w\")\n",
    "\n",
    "# dallas_join_cols = c.join( #the start of the congestion was during some weather event\n",
    "#     w,\n",
    "#     (col(\"c.StartTime(UTC)\") >= col(\"w.StartTime(UTC)\")) &\n",
    "#     (col(\"c.StartTime(UTC)\") <= col(\"w.EndTime(UTC)\")),\n",
    "#     how=\"left\"\n",
    "# )\n",
    "\n",
    "# dallas_joined = dallas_join_cols.select(\n",
    "#     col(\"c.*\"),\n",
    "#     when(col(\"w.Type\").isNull(), \"No Weather Event\") #just add the weather column, no weather event if nothing happened at the start of the traffic event\n",
    "#     .otherwise(col(\"w.Type\")).alias(\"WeatherType\"),\n",
    "#     col(\"w.WeatherSeverityNumeric\")\n",
    "# )"
   ]
  },
  {
   "cell_type": "code",
   "execution_count": null,
   "id": "9b1d51d3",
   "metadata": {},
   "outputs": [
    {
     "name": "stdout",
     "output_type": "stream",
     "text": [
      "+----------+--------+-------------------+-------------------+-------+-----+----------------+----------------------+\n",
      "|      Type|Severity|     StartTime(UTC)|       EndTime(UTC)|   City|State|     WeatherType|WeatherSeverityNumeric|\n",
      "+----------+--------+-------------------+-------------------+-------+-----+----------------+----------------------+\n",
      "|Congestion|       1|2020-06-01 06:22:00|2020-06-01 07:07:30|Houston|   TX|            Rain|                     1|\n",
      "|Congestion|       1|2020-06-01 06:22:00|2020-06-01 07:07:30|Houston|   TX|            Rain|                     1|\n",
      "|Congestion|       1|2020-06-01 11:06:00|2020-06-01 12:37:42|Houston|   TX|No Weather Event|                  NULL|\n",
      "|Congestion|       1|2020-06-01 13:44:00|2020-06-01 14:30:12|Houston|   TX|No Weather Event|                  NULL|\n",
      "|Congestion|       0|2020-06-01 13:45:00|2020-06-01 14:59:52|Houston|   TX|No Weather Event|                  NULL|\n",
      "+----------+--------+-------------------+-------------------+-------+-----+----------------+----------------------+\n",
      "only showing top 5 rows\n"
     ]
    }
   ],
   "source": [
    "# houston_joined.show(5)"
   ]
  },
  {
   "cell_type": "code",
   "execution_count": null,
   "id": "27dabc6b",
   "metadata": {},
   "outputs": [
    {
     "name": "stderr",
     "output_type": "stream",
     "text": [
      "[Stage 62:=======================================================>(61 + 1) / 62]\r"
     ]
    },
    {
     "name": "stdout",
     "output_type": "stream",
     "text": [
      "+----------------+------------------+\n",
      "|     WeatherType|       AvgSeverity|\n",
      "+----------------+------------------+\n",
      "|            Rain|0.9336490406458603|\n",
      "|             Fog|1.0038713589402737|\n",
      "|No Weather Event|0.9660946325929728|\n",
      "|   Precipitation|0.9084699453551912|\n",
      "|           Storm|0.9912280701754386|\n",
      "|            Cold| 1.004092769440655|\n",
      "|            Hail|1.3287553648068668|\n",
      "|            Snow|1.5754189944134078|\n",
      "+----------------+------------------+\n",
      "\n"
     ]
    },
    {
     "name": "stderr",
     "output_type": "stream",
     "text": [
      "                                                                                \r"
     ]
    }
   ],
   "source": [
    "# from pyspark.sql.functions import avg\n",
    "# houston_avg_severity = houston_joined.groupBy(\"WeatherType\").agg(avg(\"Severity\").alias(\"AvgSeverity\"))\n",
    "# houston_avg_severity.show()"
   ]
  },
  {
   "cell_type": "code",
   "execution_count": 47,
   "id": "cc13712d",
   "metadata": {},
   "outputs": [
    {
     "name": "stderr",
     "output_type": "stream",
     "text": [
      "                                                                                \r"
     ]
    },
    {
     "name": "stdout",
     "output_type": "stream",
     "text": [
      "+----------------+------------------+\n",
      "|     WeatherType|       AvgSeverity|\n",
      "+----------------+------------------+\n",
      "|            Rain|1.2211964643010915|\n",
      "|             Fog| 1.257566809390226|\n",
      "|           Storm| 0.984251968503937|\n",
      "|            Cold| 1.246800731261426|\n",
      "|No Weather Event|1.2618392790171722|\n",
      "|   Precipitation| 1.106837606837607|\n",
      "|            Snow|1.1409802930773119|\n",
      "|            Hail|               1.5|\n",
      "+----------------+------------------+\n",
      "\n"
     ]
    },
    {
     "name": "stderr",
     "output_type": "stream",
     "text": [
      "                                                                                \r"
     ]
    }
   ],
   "source": [
    "dallas_avg_severity = dallas_joined.groupBy(\"WeatherType\").agg(avg(\"Severity\").alias(\"AvgSeverity\"))\n",
    "dallas_avg_severity.show()\n",
    "dallas_avg_severity.toPandas().to_csv(\"dallas_avg_severity.csv\")"
   ]
  },
  {
   "cell_type": "code",
   "execution_count": 48,
   "id": "e475c88f",
   "metadata": {},
   "outputs": [],
   "source": [
    "def join_traffic_and_weather_data(c, w):\n",
    "    #congestion and weather dfs\n",
    "    join_cols = c.join( #the start of the congestion was during some weather event\n",
    "        w,\n",
    "        (col(\"c.StartTime(UTC)\") >= col(\"w.StartTime(UTC)\")) &\n",
    "        (col(\"c.StartTime(UTC)\") <= col(\"w.EndTime(UTC)\")),\n",
    "        how=\"left\"\n",
    "    )\n",
    "\n",
    "    joined = join_cols.select(\n",
    "        col(\"c.*\"),\n",
    "        when(col(\"w.Type\").isNull(), \"No Weather Event\") #just add the weather column, no weather event if nothing happened at the start of the traffic event\n",
    "        .otherwise(col(\"w.Type\")).alias(\"WeatherType\"),\n",
    "        col(\"w.WeatherSeverityNumeric\")\n",
    "    )\n",
    "\n",
    "    return joined"
   ]
  },
  {
   "cell_type": "code",
   "execution_count": 64,
   "id": "353423a4",
   "metadata": {},
   "outputs": [],
   "source": [
    "def get_specific_city_joined(city):\n",
    "    city_congestion = traffic_events.filter(col(\"City\") == city).filter(col(\"Type\") == \"Congestion\")\n",
    "    # city_congestion_counts = city_congestion.groupBy(\"Severity\").count().orderBy(\"Severity\")\n",
    "\n",
    "    city_weather = weather_events.filter(col(\"City\") == city)\n",
    "\n",
    "    c = city_congestion.alias(\"c\")\n",
    "    w = city_weather.alias(\"w\")\n",
    "\n",
    "    city_joined = join_traffic_and_weather_data(c, w)\n",
    "    return city_joined"
   ]
  },
  {
   "cell_type": "code",
   "execution_count": 49,
   "id": "da11c325",
   "metadata": {},
   "outputs": [],
   "source": [
    "def get_overall_joined_congestion_with_severity_data():\n",
    "    congestion = traffic_events.filter(col(\"Type\") == \"Congestion\")\n",
    "    c = congestion.alias(\"c\")\n",
    "    w = weather_events.alias(\"w\")\n",
    "\n",
    "    joined = join_traffic_and_weather_data(c, w)\n",
    "    # joined.show(5)\n",
    "    return joined"
   ]
  },
  {
   "cell_type": "code",
   "execution_count": 65,
   "id": "481457ef",
   "metadata": {},
   "outputs": [],
   "source": [
    "def get_avg_congestion_severity(city):\n",
    "    city_joined = get_specific_city_joined(city)\n",
    "\n",
    "    city_avg_severity = city_joined.groupBy(\"WeatherType\").agg(avg(\"Severity\").alias(\"AvgSeverity\"))\n",
    "    # city_avg_severity.show()\n",
    "    return city_avg_severity"
   ]
  },
  {
   "cell_type": "code",
   "execution_count": null,
   "id": "e0ee44bd",
   "metadata": {},
   "outputs": [],
   "source": []
  },
  {
   "cell_type": "code",
   "execution_count": 76,
   "id": "6f9460d3",
   "metadata": {},
   "outputs": [
    {
     "name": "stderr",
     "output_type": "stream",
     "text": [
      "[Stage 101:===================================================>   (58 + 4) / 62]\r"
     ]
    },
    {
     "name": "stdout",
     "output_type": "stream",
     "text": [
      "+----------------+------------------+\n",
      "|     WeatherType|       AvgSeverity|\n",
      "+----------------+------------------+\n",
      "|            Rain|0.9336574654956086|\n",
      "|             Fog|0.8710798031458072|\n",
      "|            Cold|0.8181443298969072|\n",
      "|No Weather Event|0.8704470917624155|\n",
      "|   Precipitation|              0.75|\n",
      "+----------------+------------------+\n",
      "\n"
     ]
    },
    {
     "name": "stderr",
     "output_type": "stream",
     "text": [
      "                                                                                \r"
     ]
    }
   ],
   "source": [
    "la_avg_severity = get_avg_congestion_severity(\"Los Angeles\")\n",
    "la_avg_severity.show()"
   ]
  },
  {
   "cell_type": "code",
   "execution_count": 73,
   "id": "2d05ba1c",
   "metadata": {},
   "outputs": [
    {
     "name": "stderr",
     "output_type": "stream",
     "text": [
      "[Stage 89:=================================================>      (55 + 7) / 62]\r"
     ]
    },
    {
     "name": "stdout",
     "output_type": "stream",
     "text": [
      "+----------------+------------------+\n",
      "|     WeatherType|       AvgSeverity|\n",
      "+----------------+------------------+\n",
      "|            Rain|0.9878104875804968|\n",
      "|             Fog|0.8165467625899281|\n",
      "|No Weather Event| 0.879694487580227|\n",
      "|           Storm|0.8709677419354839|\n",
      "|            Cold|              0.75|\n",
      "|   Precipitation|               0.5|\n",
      "+----------------+------------------+\n",
      "\n"
     ]
    },
    {
     "name": "stderr",
     "output_type": "stream",
     "text": [
      "                                                                                \r"
     ]
    }
   ],
   "source": [
    "sf_avg_severity = get_avg_congestion_severity(\"San Francisco\")\n",
    "sf_avg_severity.show()"
   ]
  },
  {
   "cell_type": "code",
   "execution_count": null,
   "id": "f924af5f",
   "metadata": {},
   "outputs": [
    {
     "name": "stderr",
     "output_type": "stream",
     "text": [
      "[Stage 97:=====================================================>  (59 + 3) / 62]\r"
     ]
    },
    {
     "name": "stdout",
     "output_type": "stream",
     "text": [
      "+----------------+------------------+\n",
      "|     WeatherType|       AvgSeverity|\n",
      "+----------------+------------------+\n",
      "|            Rain|1.2211964643010915|\n",
      "|             Fog| 1.257566809390226|\n",
      "|           Storm| 0.984251968503937|\n",
      "|            Cold| 1.246800731261426|\n",
      "|No Weather Event|1.2618392790171722|\n",
      "|   Precipitation| 1.106837606837607|\n",
      "|            Snow|1.1409802930773119|\n",
      "|            Hail|               1.5|\n",
      "+----------------+------------------+\n",
      "\n"
     ]
    },
    {
     "name": "stderr",
     "output_type": "stream",
     "text": [
      "                                                                                \r"
     ]
    }
   ],
   "source": [
    "dallas_avg_severity = get_avg_congestion_severity(\"Dallas\")\n",
    "dallas_avg_severity.to_pandas().to_csv(\"dallas\")"
   ]
  },
  {
   "cell_type": "code",
   "execution_count": 54,
   "id": "9c111840",
   "metadata": {},
   "outputs": [
    {
     "name": "stderr",
     "output_type": "stream",
     "text": [
      "[Stage 74:=======================================================>(61 + 1) / 62]\r"
     ]
    },
    {
     "name": "stdout",
     "output_type": "stream",
     "text": [
      "+----------------+------------------+\n",
      "|     WeatherType|       AvgSeverity|\n",
      "+----------------+------------------+\n",
      "|            Rain|0.9336490406458603|\n",
      "|             Fog|1.0038713589402737|\n",
      "|No Weather Event|0.9660946325929728|\n",
      "|   Precipitation|0.9084699453551912|\n",
      "|           Storm|0.9912280701754386|\n",
      "|            Cold| 1.004092769440655|\n",
      "|            Hail|1.3287553648068668|\n",
      "|            Snow|1.5754189944134078|\n",
      "+----------------+------------------+\n",
      "\n"
     ]
    },
    {
     "name": "stderr",
     "output_type": "stream",
     "text": [
      "                                                                                \r"
     ]
    }
   ],
   "source": [
    "houston_avg_severity = get_avg_congestion_severity(\"Houston\")\n",
    "houston_avg_severity.show()"
   ]
  },
  {
   "cell_type": "code",
   "execution_count": 55,
   "id": "46ffa288",
   "metadata": {},
   "outputs": [
    {
     "name": "stderr",
     "output_type": "stream",
     "text": [
      "[Stage 78:================================================>       (54 + 8) / 62]\r"
     ]
    },
    {
     "name": "stdout",
     "output_type": "stream",
     "text": [
      "+----------------+------------------+\n",
      "|     WeatherType|       AvgSeverity|\n",
      "+----------------+------------------+\n",
      "|No Weather Event|1.0473979043914898|\n",
      "+----------------+------------------+\n",
      "\n"
     ]
    },
    {
     "name": "stderr",
     "output_type": "stream",
     "text": [
      "                                                                                \r"
     ]
    }
   ],
   "source": [
    "boston_avg_severity = get_avg_congestion_severity(\"Boston\")\n",
    "boston_avg_severity.show()"
   ]
  },
  {
   "cell_type": "code",
   "execution_count": 56,
   "id": "dffeb25b",
   "metadata": {},
   "outputs": [],
   "source": [
    "# # Graph top few cities, graph percentage of events having rain vs. perent increase in congestion\n",
    "# def compare_city_performance(rain_level = 1):\n",
    "\n",
    "#     joined_data = get_overall_joined_congestion_with_severity_data()\n",
    "\n",
    "#     base_df = joined_data.filter(col(\"City\").isin(\"Los Angeles\", \"Chicago\", \"Houston\", \"New York\", \"Miami\"))\n",
    "\n",
    "#     df_small = base_df.select(\"City\", \"WeatherSeverityNumeric\", \"WeatherType\", \"Severity\") \\\n",
    "#                     .na.drop(subset=[\"Severity\", \"WeatherSeverityNumeric\", \"WeatherType\"])\n",
    "\n",
    "#     agg_df = df_small.groupBy(\"City\").agg(\n",
    "#         avg(when(col(\"WeatherSeverityNumeric\") == 1, col(\"Severity\"))).alias(\"RainAvg\"),\n",
    "#         avg(when(col(\"WeatherType\") == \"No Weather Event\", col(\"Severity\"))).alias(\"NoEventAvg\")\n",
    "#     )\n",
    "\n",
    "#     # Step 3: Calculate percent increase\n",
    "#     # result_df = agg_df.withColumn(\n",
    "#     #     \"PercentIncrease\",\n",
    "#     #     ((col(\"RainAvg\") - col(\"NoEventAvg\")) / col(\"NoEventAvg\")) * 100\n",
    "#     # )\n",
    "\n",
    "#     return agg_df\n",
    "\n",
    "\n",
    "#     # Show final result\n",
    "#     # result_df.show(truncate = False)\n",
    "\n",
    "    \n",
    "\n",
    "    \n",
    "    "
   ]
  },
  {
   "cell_type": "code",
   "execution_count": 57,
   "id": "bf016ad4",
   "metadata": {},
   "outputs": [],
   "source": [
    "# result_df = compare_city_performance(1)\n",
    "# result_df.show(10)"
   ]
  },
  {
   "cell_type": "code",
   "execution_count": 58,
   "id": "8e98242a",
   "metadata": {},
   "outputs": [],
   "source": [
    "# congestion = traffic_events.filter(col(\"Type\") == \"Congestion\")\n",
    "\n",
    "# c = congestion.alias(\"c\")\n",
    "# w = weather_events.alias(\"w\")\n",
    "\n",
    "# joined = join_traffic_and_weather_data(c, w)\n",
    "# joined.show()"
   ]
  },
  {
   "cell_type": "code",
   "execution_count": 68,
   "id": "3ca5f86b",
   "metadata": {},
   "outputs": [],
   "source": [
    "# result_df.show(truncate=False)"
   ]
  },
  {
   "cell_type": "code",
   "execution_count": 60,
   "id": "5e113a38",
   "metadata": {},
   "outputs": [],
   "source": [
    "# boston_joined.select(\"WeatherType\").distinct().show()\n"
   ]
  },
  {
   "cell_type": "code",
   "execution_count": 61,
   "id": "31c964f5",
   "metadata": {},
   "outputs": [],
   "source": [
    "# boston_avg_severity.toPandas().to_csv(\"boston_avg_severity.csv\")"
   ]
  },
  {
   "cell_type": "markdown",
   "id": "a4839b6d",
   "metadata": {},
   "source": [
    "Why does the rain not change anything - makes things a bit better, ppl stay inside.\n",
    "Try to only get rush hour times, where people have to go on the road"
   ]
  },
  {
   "cell_type": "code",
   "execution_count": 69,
   "id": "1bd59b2f",
   "metadata": {},
   "outputs": [],
   "source": [
    "def average_for_city_weathertype_weatherseverity(city, weathertype, wseverity):\n",
    "    city_joined = get_specific_city_joined(city)\n",
    "\n",
    "    filtered = city_joined.filter(\n",
    "        (col(\"WeatherType\") == weathertype) &\n",
    "        (col(\"WeatherSeverityNumeric\") == wseverity)\n",
    "    )\n",
    "\n",
    "    specific_city_wtype_wseverity_avg = filtered.agg(avg(\"Severity\").alias(\"AvgSeverity\"))\n",
    "    return specific_city_wtype_wseverity_avg"
   ]
  },
  {
   "cell_type": "code",
   "execution_count": null,
   "id": "b7ba5c73",
   "metadata": {},
   "outputs": [
    {
     "name": "stderr",
     "output_type": "stream",
     "text": [
      "ERROR:root:KeyboardInterrupt while sending command.           (1823 + 8) / 3100]\n",
      "Traceback (most recent call last):\n",
      "  File \"/Users/johnathandagan/Documents/School_files/2024-2025/Big Data/Final Project/venv/lib/python3.12/site-packages/py4j/java_gateway.py\", line 1038, in send_command\n",
      "    response = connection.send_command(command)\n",
      "               ^^^^^^^^^^^^^^^^^^^^^^^^^^^^^^^^\n",
      "  File \"/Users/johnathandagan/Documents/School_files/2024-2025/Big Data/Final Project/venv/lib/python3.12/site-packages/py4j/clientserver.py\", line 535, in send_command\n",
      "    answer = smart_decode(self.stream.readline()[:-1])\n",
      "                          ^^^^^^^^^^^^^^^^^^^^^^\n",
      "  File \"/opt/homebrew/Cellar/python@3.12/3.12.6/Frameworks/Python.framework/Versions/3.12/lib/python3.12/socket.py\", line 720, in readinto\n",
      "    return self._sock.recv_into(b)\n",
      "           ^^^^^^^^^^^^^^^^^^^^^^^\n",
      "KeyboardInterrupt\n",
      "[Stage 81:==============================>                     (1830 + 8) / 3100]\r"
     ]
    },
    {
     "ename": "KeyboardInterrupt",
     "evalue": "",
     "output_type": "error",
     "traceback": [
      "\u001b[31m---------------------------------------------------------------------------\u001b[39m",
      "\u001b[31mKeyboardInterrupt\u001b[39m                         Traceback (most recent call last)",
      "\u001b[36mCell\u001b[39m\u001b[36m \u001b[39m\u001b[32mIn[71]\u001b[39m\u001b[32m, line 2\u001b[39m\n\u001b[32m      1\u001b[39m specific_city_wtype_wseverity_avg = average_for_city_weathertype_weatherseverity(\u001b[33m\"\u001b[39m\u001b[33mBoston\u001b[39m\u001b[33m\"\u001b[39m, \u001b[33m\"\u001b[39m\u001b[33mRain\u001b[39m\u001b[33m\"\u001b[39m, \u001b[32m1\u001b[39m)\n\u001b[32m----> \u001b[39m\u001b[32m2\u001b[39m \u001b[43mspecific_city_wtype_wseverity_avg\u001b[49m\u001b[43m.\u001b[49m\u001b[43mshow\u001b[49m\u001b[43m(\u001b[49m\u001b[43m)\u001b[49m\n",
      "\u001b[36mFile \u001b[39m\u001b[32m~/Documents/School_files/2024-2025/Big Data/Final Project/venv/lib/python3.12/site-packages/pyspark/sql/classic/dataframe.py:285\u001b[39m, in \u001b[36mDataFrame.show\u001b[39m\u001b[34m(self, n, truncate, vertical)\u001b[39m\n\u001b[32m    284\u001b[39m \u001b[38;5;28;01mdef\u001b[39;00m\u001b[38;5;250m \u001b[39m\u001b[34mshow\u001b[39m(\u001b[38;5;28mself\u001b[39m, n: \u001b[38;5;28mint\u001b[39m = \u001b[32m20\u001b[39m, truncate: Union[\u001b[38;5;28mbool\u001b[39m, \u001b[38;5;28mint\u001b[39m] = \u001b[38;5;28;01mTrue\u001b[39;00m, vertical: \u001b[38;5;28mbool\u001b[39m = \u001b[38;5;28;01mFalse\u001b[39;00m) -> \u001b[38;5;28;01mNone\u001b[39;00m:\n\u001b[32m--> \u001b[39m\u001b[32m285\u001b[39m     \u001b[38;5;28mprint\u001b[39m(\u001b[38;5;28;43mself\u001b[39;49m\u001b[43m.\u001b[49m\u001b[43m_show_string\u001b[49m\u001b[43m(\u001b[49m\u001b[43mn\u001b[49m\u001b[43m,\u001b[49m\u001b[43m \u001b[49m\u001b[43mtruncate\u001b[49m\u001b[43m,\u001b[49m\u001b[43m \u001b[49m\u001b[43mvertical\u001b[49m\u001b[43m)\u001b[49m)\n",
      "\u001b[36mFile \u001b[39m\u001b[32m~/Documents/School_files/2024-2025/Big Data/Final Project/venv/lib/python3.12/site-packages/pyspark/sql/classic/dataframe.py:303\u001b[39m, in \u001b[36mDataFrame._show_string\u001b[39m\u001b[34m(self, n, truncate, vertical)\u001b[39m\n\u001b[32m    297\u001b[39m     \u001b[38;5;28;01mraise\u001b[39;00m PySparkTypeError(\n\u001b[32m    298\u001b[39m         errorClass=\u001b[33m\"\u001b[39m\u001b[33mNOT_BOOL\u001b[39m\u001b[33m\"\u001b[39m,\n\u001b[32m    299\u001b[39m         messageParameters={\u001b[33m\"\u001b[39m\u001b[33marg_name\u001b[39m\u001b[33m\"\u001b[39m: \u001b[33m\"\u001b[39m\u001b[33mvertical\u001b[39m\u001b[33m\"\u001b[39m, \u001b[33m\"\u001b[39m\u001b[33marg_type\u001b[39m\u001b[33m\"\u001b[39m: \u001b[38;5;28mtype\u001b[39m(vertical).\u001b[34m__name__\u001b[39m},\n\u001b[32m    300\u001b[39m     )\n\u001b[32m    302\u001b[39m \u001b[38;5;28;01mif\u001b[39;00m \u001b[38;5;28misinstance\u001b[39m(truncate, \u001b[38;5;28mbool\u001b[39m) \u001b[38;5;129;01mand\u001b[39;00m truncate:\n\u001b[32m--> \u001b[39m\u001b[32m303\u001b[39m     \u001b[38;5;28;01mreturn\u001b[39;00m \u001b[38;5;28;43mself\u001b[39;49m\u001b[43m.\u001b[49m\u001b[43m_jdf\u001b[49m\u001b[43m.\u001b[49m\u001b[43mshowString\u001b[49m\u001b[43m(\u001b[49m\u001b[43mn\u001b[49m\u001b[43m,\u001b[49m\u001b[43m \u001b[49m\u001b[32;43m20\u001b[39;49m\u001b[43m,\u001b[49m\u001b[43m \u001b[49m\u001b[43mvertical\u001b[49m\u001b[43m)\u001b[49m\n\u001b[32m    304\u001b[39m \u001b[38;5;28;01melse\u001b[39;00m:\n\u001b[32m    305\u001b[39m     \u001b[38;5;28;01mtry\u001b[39;00m:\n",
      "\u001b[36mFile \u001b[39m\u001b[32m~/Documents/School_files/2024-2025/Big Data/Final Project/venv/lib/python3.12/site-packages/py4j/java_gateway.py:1361\u001b[39m, in \u001b[36mJavaMember.__call__\u001b[39m\u001b[34m(self, *args)\u001b[39m\n\u001b[32m   1354\u001b[39m args_command, temp_args = \u001b[38;5;28mself\u001b[39m._build_args(*args)\n\u001b[32m   1356\u001b[39m command = proto.CALL_COMMAND_NAME +\\\n\u001b[32m   1357\u001b[39m     \u001b[38;5;28mself\u001b[39m.command_header +\\\n\u001b[32m   1358\u001b[39m     args_command +\\\n\u001b[32m   1359\u001b[39m     proto.END_COMMAND_PART\n\u001b[32m-> \u001b[39m\u001b[32m1361\u001b[39m answer = \u001b[38;5;28;43mself\u001b[39;49m\u001b[43m.\u001b[49m\u001b[43mgateway_client\u001b[49m\u001b[43m.\u001b[49m\u001b[43msend_command\u001b[49m\u001b[43m(\u001b[49m\u001b[43mcommand\u001b[49m\u001b[43m)\u001b[49m\n\u001b[32m   1362\u001b[39m return_value = get_return_value(\n\u001b[32m   1363\u001b[39m     answer, \u001b[38;5;28mself\u001b[39m.gateway_client, \u001b[38;5;28mself\u001b[39m.target_id, \u001b[38;5;28mself\u001b[39m.name)\n\u001b[32m   1365\u001b[39m \u001b[38;5;28;01mfor\u001b[39;00m temp_arg \u001b[38;5;129;01min\u001b[39;00m temp_args:\n",
      "\u001b[36mFile \u001b[39m\u001b[32m~/Documents/School_files/2024-2025/Big Data/Final Project/venv/lib/python3.12/site-packages/py4j/java_gateway.py:1038\u001b[39m, in \u001b[36mGatewayClient.send_command\u001b[39m\u001b[34m(self, command, retry, binary)\u001b[39m\n\u001b[32m   1036\u001b[39m connection = \u001b[38;5;28mself\u001b[39m._get_connection()\n\u001b[32m   1037\u001b[39m \u001b[38;5;28;01mtry\u001b[39;00m:\n\u001b[32m-> \u001b[39m\u001b[32m1038\u001b[39m     response = \u001b[43mconnection\u001b[49m\u001b[43m.\u001b[49m\u001b[43msend_command\u001b[49m\u001b[43m(\u001b[49m\u001b[43mcommand\u001b[49m\u001b[43m)\u001b[49m\n\u001b[32m   1039\u001b[39m     \u001b[38;5;28;01mif\u001b[39;00m binary:\n\u001b[32m   1040\u001b[39m         \u001b[38;5;28;01mreturn\u001b[39;00m response, \u001b[38;5;28mself\u001b[39m._create_connection_guard(connection)\n",
      "\u001b[36mFile \u001b[39m\u001b[32m~/Documents/School_files/2024-2025/Big Data/Final Project/venv/lib/python3.12/site-packages/py4j/clientserver.py:535\u001b[39m, in \u001b[36mClientServerConnection.send_command\u001b[39m\u001b[34m(self, command)\u001b[39m\n\u001b[32m    533\u001b[39m \u001b[38;5;28;01mtry\u001b[39;00m:\n\u001b[32m    534\u001b[39m     \u001b[38;5;28;01mwhile\u001b[39;00m \u001b[38;5;28;01mTrue\u001b[39;00m:\n\u001b[32m--> \u001b[39m\u001b[32m535\u001b[39m         answer = smart_decode(\u001b[38;5;28;43mself\u001b[39;49m\u001b[43m.\u001b[49m\u001b[43mstream\u001b[49m\u001b[43m.\u001b[49m\u001b[43mreadline\u001b[49m\u001b[43m(\u001b[49m\u001b[43m)\u001b[49m[:-\u001b[32m1\u001b[39m])\n\u001b[32m    536\u001b[39m         logger.debug(\u001b[33m\"\u001b[39m\u001b[33mAnswer received: \u001b[39m\u001b[38;5;132;01m{0}\u001b[39;00m\u001b[33m\"\u001b[39m.format(answer))\n\u001b[32m    537\u001b[39m         \u001b[38;5;66;03m# Happens when a the other end is dead. There might be an empty\u001b[39;00m\n\u001b[32m    538\u001b[39m         \u001b[38;5;66;03m# answer before the socket raises an error.\u001b[39;00m\n",
      "\u001b[36mFile \u001b[39m\u001b[32m/opt/homebrew/Cellar/python@3.12/3.12.6/Frameworks/Python.framework/Versions/3.12/lib/python3.12/socket.py:720\u001b[39m, in \u001b[36mSocketIO.readinto\u001b[39m\u001b[34m(self, b)\u001b[39m\n\u001b[32m    718\u001b[39m \u001b[38;5;28;01mwhile\u001b[39;00m \u001b[38;5;28;01mTrue\u001b[39;00m:\n\u001b[32m    719\u001b[39m     \u001b[38;5;28;01mtry\u001b[39;00m:\n\u001b[32m--> \u001b[39m\u001b[32m720\u001b[39m         \u001b[38;5;28;01mreturn\u001b[39;00m \u001b[38;5;28;43mself\u001b[39;49m\u001b[43m.\u001b[49m\u001b[43m_sock\u001b[49m\u001b[43m.\u001b[49m\u001b[43mrecv_into\u001b[49m\u001b[43m(\u001b[49m\u001b[43mb\u001b[49m\u001b[43m)\u001b[49m\n\u001b[32m    721\u001b[39m     \u001b[38;5;28;01mexcept\u001b[39;00m timeout:\n\u001b[32m    722\u001b[39m         \u001b[38;5;28mself\u001b[39m._timeout_occurred = \u001b[38;5;28;01mTrue\u001b[39;00m\n",
      "\u001b[31mKeyboardInterrupt\u001b[39m: "
     ]
    },
    {
     "name": "stderr",
     "output_type": "stream",
     "text": [
      "[Stage 81:==============================>                     (1835 + 8) / 3100]\r"
     ]
    },
    {
     "name": "stderr",
     "output_type": "stream",
     "text": [
      "[Stage 81:====================================>               (2195 + 8) / 3100]\r"
     ]
    }
   ],
   "source": [
    "specific_city_wtype_wseverity_avg = average_for_city_weathertype_weatherseverity(\"Boston\", \"Rain\", 2)\n",
    "specific_city_wtype_wseverity_avg.show()"
   ]
  },
  {
   "cell_type": "markdown",
   "id": "8f7efef5",
   "metadata": {},
   "source": [
    "# Rush hour"
   ]
  },
  {
   "cell_type": "code",
   "execution_count": null,
   "id": "89a15d81",
   "metadata": {},
   "outputs": [],
   "source": [
    "from pyspark.sql.functions import to_timestamp, from_utc_timestamp, hour, minute, dayofweek\n",
    "\n",
    "# turn to houston time\n",
    "houston_joined = houston_joined.withColumn(\"StartTimeLocal\", from_utc_timestamp(to_timestamp(col(\"StartTime(UTC)\")), \"America/Chicago\"))\n",
    "\n",
    "houston_joined = houston_joined.withColumn(\"hour\", hour(\"StartTimeLocal\")) \\\n",
    "       .withColumn(\"minute\", minute(\"StartTimeLocal\")) \\\n",
    "       .withColumn(\"day\", dayofweek(\"StartTimeLocal\"))  # 1 = Sunday, 2 = Monday,..., 7 = Saturday\n",
    "#get weekdays\n",
    "houston_weekday = houston_joined.filter((col(\"day\") >= 2) & (col(\"day\") <= 6))\n",
    "#get rush hour during weekdays (7:30-9:30 and 4:30-6:30 local time)\n",
    "houston_rush_hour = houston_weekday.filter(\n",
    "    (\n",
    "        (col(\"hour\") == 7) & (col(\"minute\") >= 30) |\n",
    "        (col(\"hour\") == 8) |\n",
    "        (col(\"hour\") == 9) & (col(\"minute\") <= 30)\n",
    "    ) |\n",
    "    (\n",
    "        (col(\"hour\") == 16) & (col(\"minute\") >= 30) |\n",
    "        (col(\"hour\") == 17) |\n",
    "        (col(\"hour\") == 18) & (col(\"minute\") <= 30)\n",
    "    )\n",
    ")\n"
   ]
  },
  {
   "cell_type": "code",
   "execution_count": null,
   "id": "2e23e380",
   "metadata": {},
   "outputs": [],
   "source": [
    "# turn to dallas time\n",
    "dallas_joined = dallas_joined.withColumn(\"StartTimeLocal\", from_utc_timestamp(to_timestamp(col(\"StartTime(UTC)\")), \"America/Chicago\"))\n",
    "\n",
    "dallas_joined = dallas_joined.withColumn(\"hour\", hour(\"StartTimeLocal\")) \\\n",
    "       .withColumn(\"minute\", minute(\"StartTimeLocal\")) \\\n",
    "       .withColumn(\"day\", dayofweek(\"StartTimeLocal\"))  # 1 = Sunday, 2 = Monday,..., 7 = Saturday\n",
    "#get weekdays\n",
    "dallas_weekday = dallas_joined.filter((col(\"day\") >= 2) & (col(\"day\") <= 6))\n",
    "#get rush hour during weekdays (7:30-9:30 and 4:30-6:30 local time)\n",
    "dallas_rush_hour = dallas_weekday.filter(\n",
    "    (\n",
    "        (col(\"hour\") == 7) & (col(\"minute\") >= 30) |\n",
    "        (col(\"hour\") == 8) |\n",
    "        (col(\"hour\") == 9) & (col(\"minute\") <= 30)\n",
    "    ) |\n",
    "    (\n",
    "        (col(\"hour\") == 16) & (col(\"minute\") >= 30) |\n",
    "        (col(\"hour\") == 17) |\n",
    "        (col(\"hour\") == 18) & (col(\"minute\") <= 30)\n",
    "    )\n",
    ")\n"
   ]
  },
  {
   "cell_type": "code",
   "execution_count": null,
   "id": "f75f989f",
   "metadata": {},
   "outputs": [
    {
     "name": "stderr",
     "output_type": "stream",
     "text": [
      "[Stage 82:=============================>                            (2 + 2) / 4]\r"
     ]
    },
    {
     "name": "stdout",
     "output_type": "stream",
     "text": [
      "+---------+----------+--------+---+--------------------+-------------------+-------------------+----------+-----------+-----------+------------+-----------+------+--------------------+----+-------+------+-----+-------+----------------+----------------------+-------------------+----+------+---+\n",
      "|  EventId|      Type|Severity|TMC|         Description|     StartTime(UTC)|       EndTime(UTC)|  TimeZone|LocationLat|LocationLng|Distance(mi)|AirportCode|Number|              Street|Side|   City|County|State|ZipCode|     WeatherType|WeatherSeverityNumeric|     StartTimeLocal|hour|minute|day|\n",
      "+---------+----------+--------+---+--------------------+-------------------+-------------------+----------+-----------+-----------+------------+-----------+------+--------------------+----+-------+------+-----+-------+----------------+----------------------+-------------------+----+------+---+\n",
      "|T-2426682|Congestion|       1| 72|Delays increasing...|2016-11-30 22:45:00|2016-11-30 23:03:07|US/Central|  29.785181| -95.631409|        2.16|       KSGR|  NULL|              I-10 W|   R|Houston|Harris|   TX|  77079|No Weather Event|                  NULL|2016-11-30 16:45:00|  16|    45|  4|\n",
      "|T-2426683|Congestion|       1| 71|Delays of six min...|2016-11-30 22:30:00|2016-11-30 23:04:09|US/Central|  29.674559| -95.574944|        0.93|       KSGR| 11115|        Bissonnet St|   L|Houston|Harris|   TX|  77099|No Weather Event|                  NULL|2016-11-30 16:30:00|  16|    30|  4|\n",
      "|T-2426684|Congestion|       2| 74|Delays of three m...|2016-11-30 22:48:00|2016-11-30 23:02:15|US/Central|  29.851946| -95.563736|        2.95|       KDWH|  NULL|W Sam Houston Tol...|   R|Houston|Harris|   TX|  77041|No Weather Event|                  NULL|2016-11-30 16:48:00|  16|    48|  4|\n",
      "|T-2426685|Congestion|       1| 74|Delays of two min...|2016-11-30 22:47:00|2016-11-30 23:02:15|US/Central|  29.749882| -95.557732|        2.03|       KMCJ|  NULL|W Sam Houston Tol...|   R|Houston|Harris|   TX|  77042|No Weather Event|                  NULL|2016-11-30 16:47:00|  16|    47|  4|\n",
      "|T-2426686|Congestion|       1| 75|Delays of two min...|2016-11-30 22:46:00|2016-11-30 23:01:12|US/Central|  29.784735|  -95.54158|         3.4|       KMCJ|  NULL|              I-10 W|   R|Houston|Harris|   TX|  77024|No Weather Event|                  NULL|2016-11-30 16:46:00|  16|    46|  4|\n",
      "|T-2426687|Congestion|       0| 72|Delays increasing...|2016-11-30 22:41:00|2016-11-30 22:58:08|US/Central|  29.676577| -95.529335|        0.39|       KMCJ|  8674|        Bissonnet St|   L|Houston|Harris|   TX|  77074|No Weather Event|                  NULL|2016-11-30 16:41:00|  16|    41|  4|\n",
      "|T-2426689|Congestion|       1| 75|Delays of two min...|2016-11-30 22:47:00|2016-11-30 22:59:11|US/Central|   29.72245| -95.460152|        1.67|       KMCJ|  NULL|             I-610 N|   R|Houston|Harris|   TX|  77081|No Weather Event|                  NULL|2016-11-30 16:47:00|  16|    47|  4|\n",
      "|T-2426692|Congestion|       0| 72|Delays of one min...|2016-11-30 22:48:00|2016-11-30 23:04:09|US/Central|  29.691793| -95.416588|        0.63|       KMCJ|  8496|             Main St|   R|Houston|Harris|   TX|  77025|No Weather Event|                  NULL|2016-11-30 16:48:00|  16|    48|  4|\n",
      "|T-2426693|Congestion|       2| 72|Delays of eight m...|2016-11-30 22:50:00|2016-11-30 23:01:12|US/Central|  29.750309|  -95.37262|         2.8|       KMCJ|  NULL|              I-45 N|   R|Houston|Harris|   TX|  77002|No Weather Event|                  NULL|2016-11-30 16:50:00|  16|    50|  4|\n",
      "|T-2426695|Congestion|       1| 72|Delays of five mi...|2016-11-30 22:47:00|2016-11-30 23:00:14|US/Central|  29.741516| -95.364738|        2.54|       KMCJ|  NULL|             US-59 N|   R|Houston|Harris|   TX|  77004|No Weather Event|                  NULL|2016-11-30 16:47:00|  16|    47|  4|\n",
      "+---------+----------+--------+---+--------------------+-------------------+-------------------+----------+-----------+-----------+------------+-----------+------+--------------------+----+-------+------+-----+-------+----------------+----------------------+-------------------+----+------+---+\n",
      "only showing top 10 rows\n"
     ]
    },
    {
     "name": "stderr",
     "output_type": "stream",
     "text": [
      "                                                                                \r"
     ]
    }
   ],
   "source": [
    "houston_rush_hour.show(10)"
   ]
  },
  {
   "cell_type": "code",
   "execution_count": null,
   "id": "0c227857",
   "metadata": {},
   "outputs": [
    {
     "name": "stderr",
     "output_type": "stream",
     "text": [
      "[Stage 84:=====================================================>  (59 + 3) / 62]\r"
     ]
    },
    {
     "name": "stdout",
     "output_type": "stream",
     "text": [
      "+----------------+------------------+\n",
      "|     WeatherType|       AvgSeverity|\n",
      "+----------------+------------------+\n",
      "|            Cold|0.8905109489051095|\n",
      "|No Weather Event|0.8509436253363243|\n",
      "|             Fog|0.9106315940230104|\n",
      "|           Storm|1.2647058823529411|\n",
      "|   Precipitation|0.7437005039596832|\n",
      "|            Rain|0.8058789514263686|\n",
      "|            Hail| 1.391304347826087|\n",
      "|            Snow| 1.513157894736842|\n",
      "+----------------+------------------+\n",
      "\n"
     ]
    },
    {
     "name": "stderr",
     "output_type": "stream",
     "text": [
      "                                                                                \r"
     ]
    }
   ],
   "source": [
    "houston_rush_hour_avg_severity = houston_rush_hour.groupBy(\"WeatherType\").agg(avg(\"Severity\").alias(\"AvgSeverity\"))\n",
    "houston_rush_hour_avg_severity.show()"
   ]
  },
  {
   "cell_type": "code",
   "execution_count": null,
   "id": "7e07a57a",
   "metadata": {},
   "outputs": [
    {
     "name": "stderr",
     "output_type": "stream",
     "text": [
      "[Stage 88:====================================================>   (58 + 4) / 62]\r"
     ]
    },
    {
     "name": "stdout",
     "output_type": "stream",
     "text": [
      "+----------------+------------------+\n",
      "|     WeatherType|       AvgSeverity|\n",
      "+----------------+------------------+\n",
      "|No Weather Event|1.1927876200909102|\n",
      "|             Fog| 1.172647355526733|\n",
      "|            Rain|1.0952355345235534|\n",
      "|           Storm|1.0208333333333333|\n",
      "|   Precipitation| 0.980806142034549|\n",
      "|            Snow| 1.162570888468809|\n",
      "|            Cold|1.2064606741573034|\n",
      "|            Hail|               1.5|\n",
      "+----------------+------------------+\n",
      "\n"
     ]
    },
    {
     "name": "stderr",
     "output_type": "stream",
     "text": [
      "                                                                                \r"
     ]
    }
   ],
   "source": [
    "dallas_rush_hour_avg_severity = dallas_rush_hour.groupBy(\"WeatherType\").agg(avg(\"Severity\").alias(\"AvgSeverity\"))\n",
    "dallas_rush_hour_avg_severity.show()"
   ]
  },
  {
   "cell_type": "markdown",
   "id": "c31f7b57",
   "metadata": {},
   "source": [
    "Check for severe rain, >= 2"
   ]
  },
  {
   "cell_type": "code",
   "execution_count": null,
   "id": "38ce564c",
   "metadata": {},
   "outputs": [
    {
     "name": "stdout",
     "output_type": "stream",
     "text": [
      "+-----------------+\n",
      "|      AvgSeverity|\n",
      "+-----------------+\n",
      "|1.054054054054054|\n",
      "+-----------------+\n",
      "\n"
     ]
    }
   ],
   "source": [
    "filtered = houston_joined.filter(\n",
    "    (col(\"WeatherType\") == \"Rain\") &\n",
    "    (col(\"WeatherSeverityNumeric\") == 3)\n",
    ")\n",
    "\n",
    "houston_severe_rain = filtered.agg(avg(\"Severity\").alias(\"AvgSeverity\"))\n",
    "houston_severe_rain.show()"
   ]
  },
  {
   "cell_type": "code",
   "execution_count": null,
   "id": "e98472a9",
   "metadata": {},
   "outputs": [
    {
     "name": "stderr",
     "output_type": "stream",
     "text": [
      "ERROR:root:KeyboardInterrupt while sending command.              (24 + 8) / 496]\n",
      "Traceback (most recent call last):\n",
      "  File \"/Users/johnathandagan/Documents/School_files/2024-2025/Big Data/Final Project/venv/lib/python3.12/site-packages/py4j/java_gateway.py\", line 1038, in send_command\n",
      "    response = connection.send_command(command)\n",
      "               ^^^^^^^^^^^^^^^^^^^^^^^^^^^^^^^^\n",
      "  File \"/Users/johnathandagan/Documents/School_files/2024-2025/Big Data/Final Project/venv/lib/python3.12/site-packages/py4j/clientserver.py\", line 535, in send_command\n",
      "    answer = smart_decode(self.stream.readline()[:-1])\n",
      "                          ^^^^^^^^^^^^^^^^^^^^^^\n",
      "  File \"/opt/homebrew/Cellar/python@3.12/3.12.6/Frameworks/Python.framework/Versions/3.12/lib/python3.12/socket.py\", line 720, in readinto\n",
      "    return self._sock.recv_into(b)\n",
      "           ^^^^^^^^^^^^^^^^^^^^^^^\n",
      "KeyboardInterrupt\n"
     ]
    },
    {
     "ename": "KeyboardInterrupt",
     "evalue": "",
     "output_type": "error",
     "traceback": [
      "\u001b[31m---------------------------------------------------------------------------\u001b[39m",
      "\u001b[31mKeyboardInterrupt\u001b[39m                         Traceback (most recent call last)",
      "\u001b[36mCell\u001b[39m\u001b[36m \u001b[39m\u001b[32mIn[57]\u001b[39m\u001b[32m, line 7\u001b[39m\n\u001b[32m      1\u001b[39m filtered = houston_joined.filter(\n\u001b[32m      2\u001b[39m     (col(\u001b[33m\"\u001b[39m\u001b[33mWeatherType\u001b[39m\u001b[33m\"\u001b[39m) == \u001b[33m\"\u001b[39m\u001b[33mRain\u001b[39m\u001b[33m\"\u001b[39m) &\n\u001b[32m      3\u001b[39m     (col(\u001b[33m\"\u001b[39m\u001b[33mWeatherSeverityNumeric\u001b[39m\u001b[33m\"\u001b[39m) == \u001b[32m2\u001b[39m)\n\u001b[32m      4\u001b[39m )\n\u001b[32m      6\u001b[39m houston_severe_rain = filtered.agg(avg(\u001b[33m\"\u001b[39m\u001b[33mSeverity\u001b[39m\u001b[33m\"\u001b[39m).alias(\u001b[33m\"\u001b[39m\u001b[33mAvgSeverity\u001b[39m\u001b[33m\"\u001b[39m))\n\u001b[32m----> \u001b[39m\u001b[32m7\u001b[39m \u001b[43mhouston_severe_rain\u001b[49m\u001b[43m.\u001b[49m\u001b[43mshow\u001b[49m\u001b[43m(\u001b[49m\u001b[43m)\u001b[49m\n",
      "\u001b[36mFile \u001b[39m\u001b[32m~/Documents/School_files/2024-2025/Big Data/Final Project/venv/lib/python3.12/site-packages/pyspark/sql/classic/dataframe.py:285\u001b[39m, in \u001b[36mDataFrame.show\u001b[39m\u001b[34m(self, n, truncate, vertical)\u001b[39m\n\u001b[32m    284\u001b[39m \u001b[38;5;28;01mdef\u001b[39;00m\u001b[38;5;250m \u001b[39m\u001b[34mshow\u001b[39m(\u001b[38;5;28mself\u001b[39m, n: \u001b[38;5;28mint\u001b[39m = \u001b[32m20\u001b[39m, truncate: Union[\u001b[38;5;28mbool\u001b[39m, \u001b[38;5;28mint\u001b[39m] = \u001b[38;5;28;01mTrue\u001b[39;00m, vertical: \u001b[38;5;28mbool\u001b[39m = \u001b[38;5;28;01mFalse\u001b[39;00m) -> \u001b[38;5;28;01mNone\u001b[39;00m:\n\u001b[32m--> \u001b[39m\u001b[32m285\u001b[39m     \u001b[38;5;28mprint\u001b[39m(\u001b[38;5;28;43mself\u001b[39;49m\u001b[43m.\u001b[49m\u001b[43m_show_string\u001b[49m\u001b[43m(\u001b[49m\u001b[43mn\u001b[49m\u001b[43m,\u001b[49m\u001b[43m \u001b[49m\u001b[43mtruncate\u001b[49m\u001b[43m,\u001b[49m\u001b[43m \u001b[49m\u001b[43mvertical\u001b[49m\u001b[43m)\u001b[49m)\n",
      "\u001b[36mFile \u001b[39m\u001b[32m~/Documents/School_files/2024-2025/Big Data/Final Project/venv/lib/python3.12/site-packages/pyspark/sql/classic/dataframe.py:303\u001b[39m, in \u001b[36mDataFrame._show_string\u001b[39m\u001b[34m(self, n, truncate, vertical)\u001b[39m\n\u001b[32m    297\u001b[39m     \u001b[38;5;28;01mraise\u001b[39;00m PySparkTypeError(\n\u001b[32m    298\u001b[39m         errorClass=\u001b[33m\"\u001b[39m\u001b[33mNOT_BOOL\u001b[39m\u001b[33m\"\u001b[39m,\n\u001b[32m    299\u001b[39m         messageParameters={\u001b[33m\"\u001b[39m\u001b[33marg_name\u001b[39m\u001b[33m\"\u001b[39m: \u001b[33m\"\u001b[39m\u001b[33mvertical\u001b[39m\u001b[33m\"\u001b[39m, \u001b[33m\"\u001b[39m\u001b[33marg_type\u001b[39m\u001b[33m\"\u001b[39m: \u001b[38;5;28mtype\u001b[39m(vertical).\u001b[34m__name__\u001b[39m},\n\u001b[32m    300\u001b[39m     )\n\u001b[32m    302\u001b[39m \u001b[38;5;28;01mif\u001b[39;00m \u001b[38;5;28misinstance\u001b[39m(truncate, \u001b[38;5;28mbool\u001b[39m) \u001b[38;5;129;01mand\u001b[39;00m truncate:\n\u001b[32m--> \u001b[39m\u001b[32m303\u001b[39m     \u001b[38;5;28;01mreturn\u001b[39;00m \u001b[38;5;28;43mself\u001b[39;49m\u001b[43m.\u001b[49m\u001b[43m_jdf\u001b[49m\u001b[43m.\u001b[49m\u001b[43mshowString\u001b[49m\u001b[43m(\u001b[49m\u001b[43mn\u001b[49m\u001b[43m,\u001b[49m\u001b[43m \u001b[49m\u001b[32;43m20\u001b[39;49m\u001b[43m,\u001b[49m\u001b[43m \u001b[49m\u001b[43mvertical\u001b[49m\u001b[43m)\u001b[49m\n\u001b[32m    304\u001b[39m \u001b[38;5;28;01melse\u001b[39;00m:\n\u001b[32m    305\u001b[39m     \u001b[38;5;28;01mtry\u001b[39;00m:\n",
      "\u001b[36mFile \u001b[39m\u001b[32m~/Documents/School_files/2024-2025/Big Data/Final Project/venv/lib/python3.12/site-packages/py4j/java_gateway.py:1361\u001b[39m, in \u001b[36mJavaMember.__call__\u001b[39m\u001b[34m(self, *args)\u001b[39m\n\u001b[32m   1354\u001b[39m args_command, temp_args = \u001b[38;5;28mself\u001b[39m._build_args(*args)\n\u001b[32m   1356\u001b[39m command = proto.CALL_COMMAND_NAME +\\\n\u001b[32m   1357\u001b[39m     \u001b[38;5;28mself\u001b[39m.command_header +\\\n\u001b[32m   1358\u001b[39m     args_command +\\\n\u001b[32m   1359\u001b[39m     proto.END_COMMAND_PART\n\u001b[32m-> \u001b[39m\u001b[32m1361\u001b[39m answer = \u001b[38;5;28;43mself\u001b[39;49m\u001b[43m.\u001b[49m\u001b[43mgateway_client\u001b[49m\u001b[43m.\u001b[49m\u001b[43msend_command\u001b[49m\u001b[43m(\u001b[49m\u001b[43mcommand\u001b[49m\u001b[43m)\u001b[49m\n\u001b[32m   1362\u001b[39m return_value = get_return_value(\n\u001b[32m   1363\u001b[39m     answer, \u001b[38;5;28mself\u001b[39m.gateway_client, \u001b[38;5;28mself\u001b[39m.target_id, \u001b[38;5;28mself\u001b[39m.name)\n\u001b[32m   1365\u001b[39m \u001b[38;5;28;01mfor\u001b[39;00m temp_arg \u001b[38;5;129;01min\u001b[39;00m temp_args:\n",
      "\u001b[36mFile \u001b[39m\u001b[32m~/Documents/School_files/2024-2025/Big Data/Final Project/venv/lib/python3.12/site-packages/py4j/java_gateway.py:1038\u001b[39m, in \u001b[36mGatewayClient.send_command\u001b[39m\u001b[34m(self, command, retry, binary)\u001b[39m\n\u001b[32m   1036\u001b[39m connection = \u001b[38;5;28mself\u001b[39m._get_connection()\n\u001b[32m   1037\u001b[39m \u001b[38;5;28;01mtry\u001b[39;00m:\n\u001b[32m-> \u001b[39m\u001b[32m1038\u001b[39m     response = \u001b[43mconnection\u001b[49m\u001b[43m.\u001b[49m\u001b[43msend_command\u001b[49m\u001b[43m(\u001b[49m\u001b[43mcommand\u001b[49m\u001b[43m)\u001b[49m\n\u001b[32m   1039\u001b[39m     \u001b[38;5;28;01mif\u001b[39;00m binary:\n\u001b[32m   1040\u001b[39m         \u001b[38;5;28;01mreturn\u001b[39;00m response, \u001b[38;5;28mself\u001b[39m._create_connection_guard(connection)\n",
      "\u001b[36mFile \u001b[39m\u001b[32m~/Documents/School_files/2024-2025/Big Data/Final Project/venv/lib/python3.12/site-packages/py4j/clientserver.py:535\u001b[39m, in \u001b[36mClientServerConnection.send_command\u001b[39m\u001b[34m(self, command)\u001b[39m\n\u001b[32m    533\u001b[39m \u001b[38;5;28;01mtry\u001b[39;00m:\n\u001b[32m    534\u001b[39m     \u001b[38;5;28;01mwhile\u001b[39;00m \u001b[38;5;28;01mTrue\u001b[39;00m:\n\u001b[32m--> \u001b[39m\u001b[32m535\u001b[39m         answer = smart_decode(\u001b[38;5;28;43mself\u001b[39;49m\u001b[43m.\u001b[49m\u001b[43mstream\u001b[49m\u001b[43m.\u001b[49m\u001b[43mreadline\u001b[49m\u001b[43m(\u001b[49m\u001b[43m)\u001b[49m[:-\u001b[32m1\u001b[39m])\n\u001b[32m    536\u001b[39m         logger.debug(\u001b[33m\"\u001b[39m\u001b[33mAnswer received: \u001b[39m\u001b[38;5;132;01m{0}\u001b[39;00m\u001b[33m\"\u001b[39m.format(answer))\n\u001b[32m    537\u001b[39m         \u001b[38;5;66;03m# Happens when a the other end is dead. There might be an empty\u001b[39;00m\n\u001b[32m    538\u001b[39m         \u001b[38;5;66;03m# answer before the socket raises an error.\u001b[39;00m\n",
      "\u001b[36mFile \u001b[39m\u001b[32m/opt/homebrew/Cellar/python@3.12/3.12.6/Frameworks/Python.framework/Versions/3.12/lib/python3.12/socket.py:720\u001b[39m, in \u001b[36mSocketIO.readinto\u001b[39m\u001b[34m(self, b)\u001b[39m\n\u001b[32m    718\u001b[39m \u001b[38;5;28;01mwhile\u001b[39;00m \u001b[38;5;28;01mTrue\u001b[39;00m:\n\u001b[32m    719\u001b[39m     \u001b[38;5;28;01mtry\u001b[39;00m:\n\u001b[32m--> \u001b[39m\u001b[32m720\u001b[39m         \u001b[38;5;28;01mreturn\u001b[39;00m \u001b[38;5;28;43mself\u001b[39;49m\u001b[43m.\u001b[49m\u001b[43m_sock\u001b[49m\u001b[43m.\u001b[49m\u001b[43mrecv_into\u001b[49m\u001b[43m(\u001b[49m\u001b[43mb\u001b[49m\u001b[43m)\u001b[49m\n\u001b[32m    721\u001b[39m     \u001b[38;5;28;01mexcept\u001b[39;00m timeout:\n\u001b[32m    722\u001b[39m         \u001b[38;5;28mself\u001b[39m._timeout_occurred = \u001b[38;5;28;01mTrue\u001b[39;00m\n",
      "\u001b[31mKeyboardInterrupt\u001b[39m: "
     ]
    }
   ],
   "source": [
    "filtered = houston_joined.filter(\n",
    "    (col(\"WeatherType\") == \"Rain\") &\n",
    "    (col(\"WeatherSeverityNumeric\") == 2)\n",
    ")\n",
    "\n",
    "houston_severe_rain = filtered.agg(avg(\"Severity\").alias(\"AvgSeverity\"))\n",
    "houston_severe_rain.show()"
   ]
  },
  {
   "cell_type": "code",
   "execution_count": null,
   "id": "981e7ff0",
   "metadata": {},
   "outputs": [
    {
     "name": "stderr",
     "output_type": "stream",
     "text": [
      "[Stage 116:====================================================>(495 + 1) / 496]\r"
     ]
    },
    {
     "name": "stdout",
     "output_type": "stream",
     "text": [
      "+-----------------+\n",
      "|      AvgSeverity|\n",
      "+-----------------+\n",
      "|0.934848219528023|\n",
      "+-----------------+\n",
      "\n"
     ]
    },
    {
     "name": "stderr",
     "output_type": "stream",
     "text": [
      "                                                                                \r"
     ]
    }
   ],
   "source": [
    "filtered = houston_joined.filter(\n",
    "    (col(\"WeatherType\") == \"Rain\") &\n",
    "    (col(\"WeatherSeverityNumeric\") == 1)\n",
    ")\n",
    "\n",
    "houston_severe_rain = filtered.agg(avg(\"Severity\").alias(\"AvgSeverity\"))\n",
    "houston_severe_rain.show()"
   ]
  }
 ],
 "metadata": {
  "kernelspec": {
   "display_name": "venv",
   "language": "python",
   "name": "python3"
  },
  "language_info": {
   "codemirror_mode": {
    "name": "ipython",
    "version": 3
   },
   "file_extension": ".py",
   "mimetype": "text/x-python",
   "name": "python",
   "nbconvert_exporter": "python",
   "pygments_lexer": "ipython3",
   "version": "3.12.6"
  }
 },
 "nbformat": 4,
 "nbformat_minor": 5
}
